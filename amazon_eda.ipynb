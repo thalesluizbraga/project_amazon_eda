{
 "cells": [
  {
   "cell_type": "markdown",
   "metadata": {},
   "source": [
    "# 0.0 Imports"
   ]
  },
  {
   "cell_type": "code",
   "execution_count": 2,
   "metadata": {},
   "outputs": [],
   "source": [
    "import numpy as np\n",
    "import pandas as pd\n",
    "import seaborn as sns\n",
    "\n",
    "from matplotlib import pyplot as plt\n"
   ]
  },
  {
   "cell_type": "markdown",
   "metadata": {},
   "source": [
    "# 0.1 Functions"
   ]
  },
  {
   "cell_type": "markdown",
   "metadata": {},
   "source": [
    "# 1 Data Description"
   ]
  },
  {
   "cell_type": "markdown",
   "metadata": {},
   "source": [
    "## 1.1 Data Extraction and copy"
   ]
  },
  {
   "cell_type": "code",
   "execution_count": 3,
   "metadata": {},
   "outputs": [],
   "source": [
    "# Data extraction\n",
    "df = pd.read_csv('C:/Users/ThalesSilva/Documents/repos/large_files/amazon_eda/amz_br_total_products_data_processed.csv')\n",
    "\n",
    "# Copy of dataset in order to preserve raw data\n",
    "df1 = df.copy()\n",
    "\n",
    "\n"
   ]
  },
  {
   "cell_type": "markdown",
   "metadata": {},
   "source": [
    "## 1.2 Cols Names Transformation"
   ]
  },
  {
   "cell_type": "code",
   "execution_count": 4,
   "metadata": {},
   "outputs": [],
   "source": [
    "# Cols names transformation (if necessary) - No need to transform columns names as they are already in camel case\n"
   ]
  },
  {
   "cell_type": "markdown",
   "metadata": {},
   "source": [
    "## 1.3 Dataset Dimensions"
   ]
  },
  {
   "cell_type": "code",
   "execution_count": 5,
   "metadata": {},
   "outputs": [
    {
     "name": "stdout",
     "output_type": "stream",
     "text": [
      "The number of columns in the dataset is: 1344513\n",
      "The number of columns in the dataset is: 11\n"
     ]
    }
   ],
   "source": [
    "# Data dimensions (shape of df)\n",
    "print(f'The number of columns in the dataset is:', df1.shape[0])\n",
    "print(f'The number of columns in the dataset is:', df1.shape[1])\n"
   ]
  },
  {
   "cell_type": "markdown",
   "metadata": {},
   "source": [
    "## 1.4 - Data Types Observation"
   ]
  },
  {
   "cell_type": "code",
   "execution_count": 6,
   "metadata": {},
   "outputs": [
    {
     "data": {
      "text/plain": [
       "asin                  object\n",
       "title                 object\n",
       "imgUrl                object\n",
       "productURL            object\n",
       "stars                float64\n",
       "reviews                int64\n",
       "price                float64\n",
       "listPrice            float64\n",
       "categoryName          object\n",
       "isBestSeller            bool\n",
       "boughtInLastMonth      int64\n",
       "dtype: object"
      ]
     },
     "execution_count": 6,
     "metadata": {},
     "output_type": "execute_result"
    }
   ],
   "source": [
    "df1.dtypes"
   ]
  },
  {
   "cell_type": "markdown",
   "metadata": {},
   "source": [
    "## 1.5 Check NA"
   ]
  },
  {
   "cell_type": "code",
   "execution_count": 7,
   "metadata": {},
   "outputs": [
    {
     "data": {
      "text/plain": [
       "asin                 0\n",
       "title                1\n",
       "imgUrl               0\n",
       "productURL           0\n",
       "stars                0\n",
       "reviews              0\n",
       "price                0\n",
       "listPrice            0\n",
       "categoryName         0\n",
       "isBestSeller         0\n",
       "boughtInLastMonth    0\n",
       "dtype: int64"
      ]
     },
     "execution_count": 7,
     "metadata": {},
     "output_type": "execute_result"
    }
   ],
   "source": [
    "df1.isna().sum()"
   ]
  },
  {
   "cell_type": "markdown",
   "metadata": {},
   "source": [
    "## 1.6 Fill NA"
   ]
  },
  {
   "cell_type": "code",
   "execution_count": 8,
   "metadata": {},
   "outputs": [],
   "source": [
    "# No need to filL NA's as the dataset do not have any.\n"
   ]
  },
  {
   "cell_type": "markdown",
   "metadata": {},
   "source": [
    "## 1.7 Data Types Transformation"
   ]
  },
  {
   "cell_type": "code",
   "execution_count": null,
   "metadata": {},
   "outputs": [],
   "source": []
  },
  {
   "cell_type": "code",
   "execution_count": 9,
   "metadata": {},
   "outputs": [],
   "source": [
    "# No need to change data types. The dataset already has tem set correctly.\n",
    "\n"
   ]
  },
  {
   "cell_type": "markdown",
   "metadata": {},
   "source": [
    "## 1.8 Drop Columns"
   ]
  },
  {
   "cell_type": "code",
   "execution_count": 10,
   "metadata": {},
   "outputs": [],
   "source": [
    "df1 = df1.drop(df1[['asin', 'imgUrl', 'productURL']], axis=1)"
   ]
  },
  {
   "cell_type": "markdown",
   "metadata": {},
   "source": [
    "### 1.9 Duplicate Values"
   ]
  },
  {
   "cell_type": "code",
   "execution_count": 11,
   "metadata": {},
   "outputs": [
    {
     "data": {
      "text/plain": [
       "9874"
      ]
     },
     "execution_count": 11,
     "metadata": {},
     "output_type": "execute_result"
    }
   ],
   "source": [
    "df1.duplicated().sum()"
   ]
  },
  {
   "cell_type": "markdown",
   "metadata": {},
   "source": [
    "## 1.9 Descriptive Stats"
   ]
  },
  {
   "cell_type": "markdown",
   "metadata": {},
   "source": [
    "### 1.9.1 Numerical Variables"
   ]
  },
  {
   "cell_type": "code",
   "execution_count": 12,
   "metadata": {},
   "outputs": [
    {
     "data": {
      "text/html": [
       "<div>\n",
       "<style scoped>\n",
       "    .dataframe tbody tr th:only-of-type {\n",
       "        vertical-align: middle;\n",
       "    }\n",
       "\n",
       "    .dataframe tbody tr th {\n",
       "        vertical-align: top;\n",
       "    }\n",
       "\n",
       "    .dataframe thead th {\n",
       "        text-align: right;\n",
       "    }\n",
       "</style>\n",
       "<table border=\"1\" class=\"dataframe\">\n",
       "  <thead>\n",
       "    <tr style=\"text-align: right;\">\n",
       "      <th></th>\n",
       "      <th>stars</th>\n",
       "      <th>reviews</th>\n",
       "      <th>price</th>\n",
       "      <th>listPrice</th>\n",
       "      <th>boughtInLastMonth</th>\n",
       "    </tr>\n",
       "  </thead>\n",
       "  <tbody>\n",
       "    <tr>\n",
       "      <th>count</th>\n",
       "      <td>1344513.00</td>\n",
       "      <td>1344513.00</td>\n",
       "      <td>1344513.00</td>\n",
       "      <td>1344513.00</td>\n",
       "      <td>1344513.00</td>\n",
       "    </tr>\n",
       "    <tr>\n",
       "      <th>mean</th>\n",
       "      <td>1.47</td>\n",
       "      <td>212.23</td>\n",
       "      <td>217.86</td>\n",
       "      <td>65.30</td>\n",
       "      <td>4.35</td>\n",
       "    </tr>\n",
       "    <tr>\n",
       "      <th>std</th>\n",
       "      <td>2.11</td>\n",
       "      <td>4581.19</td>\n",
       "      <td>856.21</td>\n",
       "      <td>2874.17</td>\n",
       "      <td>94.36</td>\n",
       "    </tr>\n",
       "    <tr>\n",
       "      <th>min</th>\n",
       "      <td>0.00</td>\n",
       "      <td>0.00</td>\n",
       "      <td>0.00</td>\n",
       "      <td>0.00</td>\n",
       "      <td>0.00</td>\n",
       "    </tr>\n",
       "    <tr>\n",
       "      <th>25%</th>\n",
       "      <td>0.00</td>\n",
       "      <td>0.00</td>\n",
       "      <td>25.00</td>\n",
       "      <td>0.00</td>\n",
       "      <td>0.00</td>\n",
       "    </tr>\n",
       "    <tr>\n",
       "      <th>50%</th>\n",
       "      <td>0.00</td>\n",
       "      <td>0.00</td>\n",
       "      <td>69.00</td>\n",
       "      <td>0.00</td>\n",
       "      <td>0.00</td>\n",
       "    </tr>\n",
       "    <tr>\n",
       "      <th>75%</th>\n",
       "      <td>4.20</td>\n",
       "      <td>3.00</td>\n",
       "      <td>153.99</td>\n",
       "      <td>0.00</td>\n",
       "      <td>0.00</td>\n",
       "    </tr>\n",
       "    <tr>\n",
       "      <th>max</th>\n",
       "      <td>5.00</td>\n",
       "      <td>1878552.00</td>\n",
       "      <td>100000.00</td>\n",
       "      <td>1999000.00</td>\n",
       "      <td>40000.00</td>\n",
       "    </tr>\n",
       "  </tbody>\n",
       "</table>\n",
       "</div>"
      ],
      "text/plain": [
       "           stars    reviews      price  listPrice  boughtInLastMonth\n",
       "count 1344513.00 1344513.00 1344513.00 1344513.00         1344513.00\n",
       "mean        1.47     212.23     217.86      65.30               4.35\n",
       "std         2.11    4581.19     856.21    2874.17              94.36\n",
       "min         0.00       0.00       0.00       0.00               0.00\n",
       "25%         0.00       0.00      25.00       0.00               0.00\n",
       "50%         0.00       0.00      69.00       0.00               0.00\n",
       "75%         4.20       3.00     153.99       0.00               0.00\n",
       "max         5.00 1878552.00  100000.00 1999000.00           40000.00"
      ]
     },
     "execution_count": 12,
     "metadata": {},
     "output_type": "execute_result"
    }
   ],
   "source": [
    "# Surpassing exponantial notation into 2 decimals format\n",
    "pd.options.display.float_format = '{:.2f}'.format\n",
    "\n",
    "num_var = df1.select_dtypes(include=['float64', 'int64'])\n",
    "num_var.describe()"
   ]
  },
  {
   "cell_type": "markdown",
   "metadata": {},
   "source": [
    "### 1.8.1 Categorical Variables"
   ]
  },
  {
   "cell_type": "code",
   "execution_count": 13,
   "metadata": {},
   "outputs": [
    {
     "data": {
      "text/plain": [
       "title           1308169\n",
       "categoryName        206\n",
       "isBestSeller          2\n",
       "dtype: int64"
      ]
     },
     "execution_count": 13,
     "metadata": {},
     "output_type": "execute_result"
    }
   ],
   "source": [
    "cat_var = df1.select_dtypes(exclude=['float64', 'int64'])\n",
    "\n",
    "# Finding unique categories for each categorical variable\n",
    "cat_var.apply(lambda x: x.unique().shape[0])"
   ]
  },
  {
   "cell_type": "markdown",
   "metadata": {},
   "source": [
    "# 2 Hypothesis Map "
   ]
  },
  {
   "cell_type": "code",
   "execution_count": 14,
   "metadata": {},
   "outputs": [],
   "source": [
    "# Client view\n",
    "    # Categories bouth in last month sell more\n",
    "\n",
    "# Price view\n",
    "    # How the price of products is divided by range of price?\n",
    "    # Products with listprice sell more"
   ]
  },
  {
   "cell_type": "markdown",
   "metadata": {},
   "source": [
    "# 3 Feature Engineering"
   ]
  },
  {
   "cell_type": "code",
   "execution_count": 19,
   "metadata": {},
   "outputs": [],
   "source": [
    "df1['discount'] = df1['listPrice'].apply(lambda x: 'Sim' if x > 0 else 'Não')"
   ]
  },
  {
   "cell_type": "markdown",
   "metadata": {},
   "source": [
    "# 4 EDA"
   ]
  },
  {
   "cell_type": "code",
   "execution_count": 20,
   "metadata": {},
   "outputs": [],
   "source": [
    "# Copy of dataset \n",
    "df2 = df1.copy()"
   ]
  },
  {
   "cell_type": "markdown",
   "metadata": {},
   "source": [
    "## 3.1 Categories with higher stars sell more\n",
    "\n",
    "### False: Products with lower stars sell more"
   ]
  },
  {
   "cell_type": "code",
   "execution_count": 21,
   "metadata": {},
   "outputs": [
    {
     "ename": "NameError",
     "evalue": "name 'aux2' is not defined",
     "output_type": "error",
     "traceback": [
      "\u001b[1;31m---------------------------------------------------------------------------\u001b[0m",
      "\u001b[1;31mNameError\u001b[0m                                 Traceback (most recent call last)",
      "\u001b[1;32mc:\\Users\\ThalesSilva\\Documents\\repos\\project_amazon_eda\\amazon_eda.ipynb Cell 36\u001b[0m line \u001b[0;36m7\n\u001b[0;32m      <a href='vscode-notebook-cell:/c%3A/Users/ThalesSilva/Documents/repos/project_amazon_eda/amazon_eda.ipynb#X45sZmlsZQ%3D%3D?line=4'>5</a>\u001b[0m \u001b[39m# Bins\u001b[39;00m\n\u001b[0;32m      <a href='vscode-notebook-cell:/c%3A/Users/ThalesSilva/Documents/repos/project_amazon_eda/amazon_eda.ipynb#X45sZmlsZQ%3D%3D?line=5'>6</a>\u001b[0m bins \u001b[39m=\u001b[39m \u001b[39mlist\u001b[39m(np\u001b[39m.\u001b[39marange(\u001b[39m0\u001b[39m,\u001b[39m6\u001b[39m,\u001b[39m1\u001b[39m))\n\u001b[1;32m----> <a href='vscode-notebook-cell:/c%3A/Users/ThalesSilva/Documents/repos/project_amazon_eda/amazon_eda.ipynb#X45sZmlsZQ%3D%3D?line=6'>7</a>\u001b[0m aux2[\u001b[39m'\u001b[39m\u001b[39mstars_binned\u001b[39m\u001b[39m'\u001b[39m] \u001b[39m=\u001b[39m pd\u001b[39m.\u001b[39mcut(aux1[\u001b[39m'\u001b[39m\u001b[39mstars\u001b[39m\u001b[39m'\u001b[39m], bins\u001b[39m=\u001b[39mbins)\n\u001b[0;32m      <a href='vscode-notebook-cell:/c%3A/Users/ThalesSilva/Documents/repos/project_amazon_eda/amazon_eda.ipynb#X45sZmlsZQ%3D%3D?line=8'>9</a>\u001b[0m \u001b[39m# Plot\u001b[39;00m\n\u001b[0;32m     <a href='vscode-notebook-cell:/c%3A/Users/ThalesSilva/Documents/repos/project_amazon_eda/amazon_eda.ipynb#X45sZmlsZQ%3D%3D?line=9'>10</a>\u001b[0m sns\u001b[39m.\u001b[39mbarplot(x\u001b[39m=\u001b[39m\u001b[39m'\u001b[39m\u001b[39mstars_binned\u001b[39m\u001b[39m'\u001b[39m, y\u001b[39m=\u001b[39m\u001b[39m'\u001b[39m\u001b[39mprice\u001b[39m\u001b[39m'\u001b[39m, data\u001b[39m=\u001b[39maux2)\n",
      "\u001b[1;31mNameError\u001b[0m: name 'aux2' is not defined"
     ]
    },
    {
     "data": {
      "image/png": "[encoded data removed]",
      "text/plain": [
       "<Figure size 640x480 with 1 Axes>"
      ]
     },
     "metadata": {},
     "output_type": "display_data"
    }
   ],
   "source": [
    "# Group by\n",
    "plt.subplot(2,2,1) # Duas colunas, duas linhas, posiçao um da esquerda pra direita\n",
    "aux1 = df2[['price', 'stars']].groupby('price').sum().reset_index()\n",
    "\n",
    "# Bins\n",
    "bins = list(np.arange(0,6,1))\n",
    "aux2['stars_binned'] = pd.cut(aux1['stars'], bins=bins)\n",
    "\n",
    "# Plot\n",
    "sns.barplot(x='stars_binned', y='price', data=aux2)\n",
    "\n",
    "# Heatmap\n",
    "plt.subplot(2,2,2)\n",
    "sns.heatmap( aux1.corr( method='pearson' ), annot=True )\n"
   ]
  },
  {
   "cell_type": "markdown",
   "metadata": {},
   "source": [
    "## 3.2 Categories with more reviews sell more\n",
    "\n",
    "### False: No correlation founded."
   ]
  },
  {
   "cell_type": "code",
   "execution_count": null,
   "metadata": {},
   "outputs": [
    {
     "name": "stdout",
     "output_type": "stream",
     "text": [
      "                                   categoryName  reviews   price\n",
      "0                                         Bebês    32017   98.77\n",
      "1                                   Eletrônicos    31453  333.08\n",
      "2                                      Mochilas    19121  198.67\n",
      "3               Produtos de Cuidados com a Pele    19010  115.32\n",
      "4         Instrumentos para Modelagem de Cabelo    19010   95.60\n",
      "..                                          ...      ...     ...\n",
      "201                           Indicações Amazon       61   41.24\n",
      "202                  TV, Áudio e Cinema em Casa       48 1726.74\n",
      "203  Produtos de Proteção do Sol e Bronzeadores       39   73.74\n",
      "204                                 Lançamentos       31   64.43\n",
      "205                     Pré-venda e Lançamentos       13   61.84\n",
      "\n",
      "[206 rows x 3 columns]\n"
     ]
    },
    {
     "data": {
      "text/plain": [
       "<Axes: >"
      ]
     },
     "execution_count": 17,
     "metadata": {},
     "output_type": "execute_result"
    },
    {
     "data": {
      "image/png": "[encoded data removed]",
      "text/plain": [
       "<Figure size 640x480 with 2 Axes>"
      ]
     },
     "metadata": {},
     "output_type": "display_data"
    }
   ],
   "source": [
    "aux3 = df2.groupby('categoryName').agg({\n",
    "    'reviews': 'count',    # Contagem das avaliações\n",
    "    'price': 'mean'     # Média dos preços\n",
    "}).sort_values(by='reviews', ascending=False).reset_index() \n",
    "# Para usar a mesma base de agregaçao para duas agregaçoes em colunas diferentes tem que ser pelo .agg()\n",
    "print(aux3)\n",
    "\n",
    "\n",
    "aux4 = aux3[['price', 'reviews']]\n",
    "sns.heatmap( aux4.corr( method='pearson' ), annot=True )"
   ]
  },
  {
   "cell_type": "markdown",
   "metadata": {},
   "source": [
    "## 3.3 Categories best seller sell more\n",
    "\n",
    "### True"
   ]
  },
  {
   "cell_type": "code",
   "execution_count": 22,
   "metadata": {},
   "outputs": [
    {
     "data": {
      "text/plain": [
       "<Axes: >"
      ]
     },
     "execution_count": 22,
     "metadata": {},
     "output_type": "execute_result"
    },
    {
     "data": {
      "image/png": "[encoded data removed]",
      "text/plain": [
       "<Figure size 640x480 with 3 Axes>"
      ]
     },
     "metadata": {},
     "output_type": "display_data"
    }
   ],
   "source": [
    "plt.subplot(2,2,1)\n",
    "aux5 = df2[['price', 'isBestSeller']].groupby('isBestSeller').mean().reset_index()\n",
    "sns.barplot(x='isBestSeller', y='price', data=aux5)\n",
    "\n",
    "plt.subplot(2,2,2)\n",
    "sns.heatmap( aux5.corr( method='pearson' ), annot=True )"
   ]
  },
  {
   "cell_type": "markdown",
   "metadata": {},
   "source": [
    "## 3.4 Categories bouth in last month sell more\n"
   ]
  },
  {
   "cell_type": "code",
   "execution_count": 23,
   "metadata": {},
   "outputs": [
    {
     "data": {
      "text/plain": [
       "<Axes: xlabel='boughtInLastMonth', ylabel='price'>"
      ]
     },
     "execution_count": 23,
     "metadata": {},
     "output_type": "execute_result"
    },
    {
     "data": {
      "image/png": "[encoded data removed]",
      "text/plain": [
       "<Figure size 640x480 with 1 Axes>"
      ]
     },
     "metadata": {},
     "output_type": "display_data"
    }
   ],
   "source": [
    "plt.subplot(2,2,1)\n",
    "aux6 = df2[['price', 'boughtInLastMonth']].groupby('boughtInLastMonth').mean().reset_index()\n",
    "sns.barplot(x='boughtInLastMonth', y='price', data=aux6)\n",
    "\n",
    "#plt.subplot(2,2,2)\n",
    "#sns.heatmap( aux5.corr( method='pearson' ), annot=True )"
   ]
  },
  {
   "cell_type": "code",
   "execution_count": 24,
   "metadata": {},
   "outputs": [
    {
     "data": {
      "text/html": [
       "<div>\n",
       "<style scoped>\n",
       "    .dataframe tbody tr th:only-of-type {\n",
       "        vertical-align: middle;\n",
       "    }\n",
       "\n",
       "    .dataframe tbody tr th {\n",
       "        vertical-align: top;\n",
       "    }\n",
       "\n",
       "    .dataframe thead th {\n",
       "        text-align: right;\n",
       "    }\n",
       "</style>\n",
       "<table border=\"1\" class=\"dataframe\">\n",
       "  <thead>\n",
       "    <tr style=\"text-align: right;\">\n",
       "      <th></th>\n",
       "      <th>asin</th>\n",
       "      <th>title</th>\n",
       "      <th>imgUrl</th>\n",
       "      <th>productURL</th>\n",
       "      <th>stars</th>\n",
       "      <th>reviews</th>\n",
       "      <th>price</th>\n",
       "      <th>listPrice</th>\n",
       "      <th>categoryName</th>\n",
       "      <th>isBestSeller</th>\n",
       "      <th>boughtInLastMonth</th>\n",
       "      <th>discount</th>\n",
       "    </tr>\n",
       "  </thead>\n",
       "  <tbody>\n",
       "    <tr>\n",
       "      <th>0</th>\n",
       "      <td>B0C154VR2L</td>\n",
       "      <td>SAMSUNG Smart TV Crystal 50\" 4K UHD CU7700 - A...</td>\n",
       "      <td>https://m.media-amazon.com/images/I/71vk2qFDSP...</td>\n",
       "      <td>https://www.amazon.com.br/dp/B0C154VR2L</td>\n",
       "      <td>4.60</td>\n",
       "      <td>269</td>\n",
       "      <td>2279.05</td>\n",
       "      <td>0.00</td>\n",
       "      <td>TV, Áudio e Cinema em Casa</td>\n",
       "      <td>False</td>\n",
       "      <td>0</td>\n",
       "      <td>Não</td>\n",
       "    </tr>\n",
       "    <tr>\n",
       "      <th>1</th>\n",
       "      <td>B0C85J5HYD</td>\n",
       "      <td>Mini Projetor Portatil 5G Wifi 6 Bluetooth 5.0...</td>\n",
       "      <td>https://m.media-amazon.com/images/I/5133wKaOqS...</td>\n",
       "      <td>https://www.amazon.com.br/dp/B0C85J5HYD</td>\n",
       "      <td>4.50</td>\n",
       "      <td>816</td>\n",
       "      <td>409.99</td>\n",
       "      <td>0.00</td>\n",
       "      <td>TV, Áudio e Cinema em Casa</td>\n",
       "      <td>True</td>\n",
       "      <td>5000</td>\n",
       "      <td>Não</td>\n",
       "    </tr>\n",
       "    <tr>\n",
       "      <th>2</th>\n",
       "      <td>B0C1538ZJ4</td>\n",
       "      <td>Samsung Smart TV Crystal 43\" 4K UHD CU7700 - A...</td>\n",
       "      <td>https://m.media-amazon.com/images/I/71vk2qFDSP...</td>\n",
       "      <td>https://www.amazon.com.br/dp/B0C1538ZJ4</td>\n",
       "      <td>4.70</td>\n",
       "      <td>638</td>\n",
       "      <td>1969.00</td>\n",
       "      <td>2499.00</td>\n",
       "      <td>TV, Áudio e Cinema em Casa</td>\n",
       "      <td>False</td>\n",
       "      <td>0</td>\n",
       "      <td>Sim</td>\n",
       "    </tr>\n",
       "    <tr>\n",
       "      <th>3</th>\n",
       "      <td>B0B4V379PC</td>\n",
       "      <td>Samsung 60BU8000 - Smart TV LED 60' 4K UHD, Wi...</td>\n",
       "      <td>https://m.media-amazon.com/images/I/8110fzpU-P...</td>\n",
       "      <td>https://www.amazon.com.br/dp/B0B4V379PC</td>\n",
       "      <td>4.60</td>\n",
       "      <td>675</td>\n",
       "      <td>3099.00</td>\n",
       "      <td>0.00</td>\n",
       "      <td>TV, Áudio e Cinema em Casa</td>\n",
       "      <td>False</td>\n",
       "      <td>0</td>\n",
       "      <td>Não</td>\n",
       "    </tr>\n",
       "    <tr>\n",
       "      <th>4</th>\n",
       "      <td>B0899BRB4B</td>\n",
       "      <td>Smart TV LED 32'' HD Samsung LH32BETBLGGXZD</td>\n",
       "      <td>https://m.media-amazon.com/images/I/61M025WzQd...</td>\n",
       "      <td>https://www.amazon.com.br/dp/B0899BRB4B</td>\n",
       "      <td>4.70</td>\n",
       "      <td>3945</td>\n",
       "      <td>1079.90</td>\n",
       "      <td>1369.00</td>\n",
       "      <td>TV, Áudio e Cinema em Casa</td>\n",
       "      <td>True</td>\n",
       "      <td>0</td>\n",
       "      <td>Sim</td>\n",
       "    </tr>\n",
       "  </tbody>\n",
       "</table>\n",
       "</div>"
      ],
      "text/plain": [
       "         asin                                              title  \\\n",
       "0  B0C154VR2L  SAMSUNG Smart TV Crystal 50\" 4K UHD CU7700 - A...   \n",
       "1  B0C85J5HYD  Mini Projetor Portatil 5G Wifi 6 Bluetooth 5.0...   \n",
       "2  B0C1538ZJ4  Samsung Smart TV Crystal 43\" 4K UHD CU7700 - A...   \n",
       "3  B0B4V379PC  Samsung 60BU8000 - Smart TV LED 60' 4K UHD, Wi...   \n",
       "4  B0899BRB4B        Smart TV LED 32'' HD Samsung LH32BETBLGGXZD   \n",
       "\n",
       "                                              imgUrl  \\\n",
       "0  https://m.media-amazon.com/images/I/71vk2qFDSP...   \n",
       "1  https://m.media-amazon.com/images/I/5133wKaOqS...   \n",
       "2  https://m.media-amazon.com/images/I/71vk2qFDSP...   \n",
       "3  https://m.media-amazon.com/images/I/8110fzpU-P...   \n",
       "4  https://m.media-amazon.com/images/I/61M025WzQd...   \n",
       "\n",
       "                                productURL  stars  reviews   price  listPrice  \\\n",
       "0  https://www.amazon.com.br/dp/B0C154VR2L   4.60      269 2279.05       0.00   \n",
       "1  https://www.amazon.com.br/dp/B0C85J5HYD   4.50      816  409.99       0.00   \n",
       "2  https://www.amazon.com.br/dp/B0C1538ZJ4   4.70      638 1969.00    2499.00   \n",
       "3  https://www.amazon.com.br/dp/B0B4V379PC   4.60      675 3099.00       0.00   \n",
       "4  https://www.amazon.com.br/dp/B0899BRB4B   4.70     3945 1079.90    1369.00   \n",
       "\n",
       "                 categoryName  isBestSeller  boughtInLastMonth discount  \n",
       "0  TV, Áudio e Cinema em Casa         False                  0      Não  \n",
       "1  TV, Áudio e Cinema em Casa          True               5000      Não  \n",
       "2  TV, Áudio e Cinema em Casa         False                  0      Sim  \n",
       "3  TV, Áudio e Cinema em Casa         False                  0      Não  \n",
       "4  TV, Áudio e Cinema em Casa          True                  0      Sim  "
      ]
     },
     "execution_count": 24,
     "metadata": {},
     "output_type": "execute_result"
    }
   ],
   "source": [
    "df['boughtInLastMonth'].unique()\n",
    "\n",
    "df.head()"
   ]
  },
  {
   "cell_type": "markdown",
   "metadata": {},
   "source": [
    "## 3.5 How the price of products is divided by category?"
   ]
  },
  {
   "cell_type": "code",
   "execution_count": 25,
   "metadata": {},
   "outputs": [
    {
     "data": {
      "text/html": [
       "<div>\n",
       "<style scoped>\n",
       "    .dataframe tbody tr th:only-of-type {\n",
       "        vertical-align: middle;\n",
       "    }\n",
       "\n",
       "    .dataframe tbody tr th {\n",
       "        vertical-align: top;\n",
       "    }\n",
       "\n",
       "    .dataframe thead th {\n",
       "        text-align: right;\n",
       "    }\n",
       "</style>\n",
       "<table border=\"1\" class=\"dataframe\">\n",
       "  <thead>\n",
       "    <tr style=\"text-align: right;\">\n",
       "      <th></th>\n",
       "      <th>categoryName</th>\n",
       "      <th>price</th>\n",
       "    </tr>\n",
       "  </thead>\n",
       "  <tbody>\n",
       "    <tr>\n",
       "      <th>45</th>\n",
       "      <td>Computadores Desktop</td>\n",
       "      <td>1759.49</td>\n",
       "    </tr>\n",
       "    <tr>\n",
       "      <th>183</th>\n",
       "      <td>TV, Áudio e Cinema em Casa</td>\n",
       "      <td>1726.74</td>\n",
       "    </tr>\n",
       "    <tr>\n",
       "      <th>133</th>\n",
       "      <td>Notebooks</td>\n",
       "      <td>1692.02</td>\n",
       "    </tr>\n",
       "    <tr>\n",
       "      <th>128</th>\n",
       "      <td>Móveis e Acessórios para Jardim e Quintal</td>\n",
       "      <td>1282.16</td>\n",
       "    </tr>\n",
       "    <tr>\n",
       "      <th>127</th>\n",
       "      <td>Monitores de Computador</td>\n",
       "      <td>1193.75</td>\n",
       "    </tr>\n",
       "    <tr>\n",
       "      <th>100</th>\n",
       "      <td>Jogos de Louças e Aparelhos de Jantar</td>\n",
       "      <td>1153.05</td>\n",
       "    </tr>\n",
       "    <tr>\n",
       "      <th>161</th>\n",
       "      <td>Produtos de Passeio e Viagem para Bebês</td>\n",
       "      <td>866.52</td>\n",
       "    </tr>\n",
       "    <tr>\n",
       "      <th>60</th>\n",
       "      <td>Eletrodomésticos</td>\n",
       "      <td>866.21</td>\n",
       "    </tr>\n",
       "    <tr>\n",
       "      <th>201</th>\n",
       "      <td>fashion-womens-jewelry</td>\n",
       "      <td>821.74</td>\n",
       "    </tr>\n",
       "    <tr>\n",
       "      <th>46</th>\n",
       "      <td>Computadores e Informática</td>\n",
       "      <td>735.54</td>\n",
       "    </tr>\n",
       "  </tbody>\n",
       "</table>\n",
       "</div>"
      ],
      "text/plain": [
       "                                  categoryName   price\n",
       "45                        Computadores Desktop 1759.49\n",
       "183                 TV, Áudio e Cinema em Casa 1726.74\n",
       "133                                  Notebooks 1692.02\n",
       "128  Móveis e Acessórios para Jardim e Quintal 1282.16\n",
       "127                    Monitores de Computador 1193.75\n",
       "100      Jogos de Louças e Aparelhos de Jantar 1153.05\n",
       "161    Produtos de Passeio e Viagem para Bebês  866.52\n",
       "60                            Eletrodomésticos  866.21\n",
       "201                     fashion-womens-jewelry  821.74\n",
       "46                  Computadores e Informática  735.54"
      ]
     },
     "execution_count": 25,
     "metadata": {},
     "output_type": "execute_result"
    }
   ],
   "source": [
    "aux7 = df[['categoryName', 'price']].groupby('categoryName').mean().reset_index().sort_values('price', ascending=False)\n",
    "aux7.head(10)"
   ]
  },
  {
   "cell_type": "markdown",
   "metadata": {},
   "source": [
    "## 3.6 How the price of products is divided by range of price?\n"
   ]
  },
  {
   "cell_type": "code",
   "execution_count": 26,
   "metadata": {},
   "outputs": [
    {
     "name": "stderr",
     "output_type": "stream",
     "text": [
      "C:\\Users\\ThalesSilva\\AppData\\Local\\Temp\\ipykernel_33336\\2885749994.py:1: UserWarning: \n",
      "\n",
      "`distplot` is a deprecated function and will be removed in seaborn v0.14.0.\n",
      "\n",
      "Please adapt your code to use either `displot` (a figure-level function with\n",
      "similar flexibility) or `histplot` (an axes-level function for histograms).\n",
      "\n",
      "For a guide to updating your code to use the new functions, please see\n",
      "https://gist.github.com/mwaskom/de44147ed2974457ad6372750bbe5751\n",
      "\n",
      "  sns.distplot(df2['price'])\n"
     ]
    },
    {
     "data": {
      "text/plain": [
       "<Axes: xlabel='price', ylabel='Density'>"
      ]
     },
     "execution_count": 26,
     "metadata": {},
     "output_type": "execute_result"
    },
    {
     "data": {
      "image/png": "[encoded data removed]",
      "text/plain": [
       "<Figure size 640x480 with 1 Axes>"
      ]
     },
     "metadata": {},
     "output_type": "display_data"
    }
   ],
   "source": [
    "sns.distplot(df2['price'])"
   ]
  },
  {
   "cell_type": "markdown",
   "metadata": {},
   "source": [
    " ## 3.7 Products with listprice (discount) sell more"
   ]
  },
  {
   "cell_type": "code",
   "execution_count": 31,
   "metadata": {},
   "outputs": [
    {
     "data": {
      "text/plain": [
       "<Axes: >"
      ]
     },
     "execution_count": 31,
     "metadata": {},
     "output_type": "execute_result"
    },
    {
     "data": {
      "image/png": "[encoded data removed]",
      "text/plain": [
       "<Figure size 640x480 with 3 Axes>"
      ]
     },
     "metadata": {},
     "output_type": "display_data"
    }
   ],
   "source": [
    "plt.subplot(2,2,1)\n",
    "aux8 = df[['discount', 'price']].groupby('discount').mean().reset_index() \n",
    "sns.barplot(x='discount', y='price', data=aux8)\n",
    "\n",
    "\n",
    "aux9 = df[['listPrice', 'price']].groupby('listPrice').mean().reset_index()\n",
    "plt.subplot(2,2,2)\n",
    "sns.heatmap( aux9.corr( method='pearson' ), annot=True )"
   ]
  },
  {
   "cell_type": "code",
   "execution_count": null,
   "metadata": {},
   "outputs": [],
   "source": [
    "#Analyze pricing trends across different product categories.\n",
    "#Explore the correlation between customer ratings and the number of reviews.\n",
    "#Identify the best-selling products on Amazon.com.br.\n",
    "#Study the relationship between pricing and customer reviews.\n",
    "#Create a recommendation system based on customer ratings and product categories.\n",
    "#Analyze the availability of products in different price ranges."
   ]
  }
 ],
 "metadata": {
  "kernelspec": {
   "display_name": "repos",
   "language": "python",
   "name": "python3"
  },
  "language_info": {
   "codemirror_mode": {
    "name": "ipython",
    "version": 3
   },
   "file_extension": ".py",
   "mimetype": "text/x-python",
   "name": "python",
   "nbconvert_exporter": "python",
   "pygments_lexer": "ipython3",
   "version": "3.11.5"
  }
 },
 "nbformat": 4,
 "nbformat_minor": 2
}
