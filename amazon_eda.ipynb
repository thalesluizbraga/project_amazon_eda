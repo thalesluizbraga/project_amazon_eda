{
 "cells": [
  {
   "cell_type": "markdown",
   "metadata": {},
   "source": [
    "# 0.0 Imports"
   ]
  },
  {
   "cell_type": "code",
   "execution_count": 1,
   "metadata": {},
   "outputs": [],
   "source": [
    "import pandas as pd"
   ]
  },
  {
   "cell_type": "markdown",
   "metadata": {},
   "source": [
    "# 0.1 Functions"
   ]
  },
  {
   "cell_type": "markdown",
   "metadata": {},
   "source": [
    "# 1 Data Description"
   ]
  },
  {
   "cell_type": "markdown",
   "metadata": {},
   "source": [
    "## 1.1 Data Extraction and copy"
   ]
  },
  {
   "cell_type": "code",
   "execution_count": 8,
   "metadata": {},
   "outputs": [],
   "source": [
    "# Data extraction\n",
    "df = pd.read_csv('amz_br_total_products_data_processed.csv')\n",
    "\n",
    "# Copy of dataset in order to preserve raw data\n",
    "df1 = df.copy()\n",
    "\n",
    "\n"
   ]
  },
  {
   "cell_type": "markdown",
   "metadata": {},
   "source": [
    "## 1.2 Cols Names Transformation"
   ]
  },
  {
   "cell_type": "code",
   "execution_count": null,
   "metadata": {},
   "outputs": [],
   "source": [
    "# Cols names transformation (if necessary) - No need to transform columns names as they are already in camel case\n"
   ]
  },
  {
   "cell_type": "markdown",
   "metadata": {},
   "source": [
    "## 1.3 Dataset Dimensions"
   ]
  },
  {
   "cell_type": "code",
   "execution_count": 9,
   "metadata": {},
   "outputs": [
    {
     "name": "stdout",
     "output_type": "stream",
     "text": [
      "The number of columns in the dataset is: 1344513\n",
      "The number of columns in the dataset is: 11\n"
     ]
    }
   ],
   "source": [
    "# Data dimensions (shape of df)\n",
    "print(f'The number of columns in the dataset is:', df1.shape[0])\n",
    "print(f'The number of columns in the dataset is:', df1.shape[1])\n"
   ]
  },
  {
   "cell_type": "markdown",
   "metadata": {},
   "source": [
    "## 1.4 - Data Types Observation"
   ]
  },
  {
   "cell_type": "code",
   "execution_count": 10,
   "metadata": {},
   "outputs": [
    {
     "data": {
      "text/plain": [
       "asin                  object\n",
       "title                 object\n",
       "imgUrl                object\n",
       "productURL            object\n",
       "stars                float64\n",
       "reviews                int64\n",
       "price                float64\n",
       "listPrice            float64\n",
       "categoryName          object\n",
       "isBestSeller            bool\n",
       "boughtInLastMonth      int64\n",
       "dtype: object"
      ]
     },
     "execution_count": 10,
     "metadata": {},
     "output_type": "execute_result"
    }
   ],
   "source": [
    "df1.dtypes"
   ]
  },
  {
   "cell_type": "markdown",
   "metadata": {},
   "source": [
    "## 1.5 Check NA"
   ]
  },
  {
   "cell_type": "code",
   "execution_count": 12,
   "metadata": {},
   "outputs": [
    {
     "data": {
      "text/plain": [
       "asin                 0\n",
       "title                1\n",
       "imgUrl               0\n",
       "productURL           0\n",
       "stars                0\n",
       "reviews              0\n",
       "price                0\n",
       "listPrice            0\n",
       "categoryName         0\n",
       "isBestSeller         0\n",
       "boughtInLastMonth    0\n",
       "dtype: int64"
      ]
     },
     "execution_count": 12,
     "metadata": {},
     "output_type": "execute_result"
    }
   ],
   "source": [
    "df1.isna().sum()"
   ]
  },
  {
   "cell_type": "markdown",
   "metadata": {},
   "source": [
    "## 1.6 Fill NA"
   ]
  },
  {
   "cell_type": "code",
   "execution_count": 15,
   "metadata": {},
   "outputs": [],
   "source": [
    "# No need to filL NA's as the dataset do not have any.\n"
   ]
  },
  {
   "cell_type": "markdown",
   "metadata": {},
   "source": [
    "## 1.7 Data Types Transformation"
   ]
  },
  {
   "cell_type": "code",
   "execution_count": 16,
   "metadata": {},
   "outputs": [],
   "source": [
    "# No need to change data types. The dataset already has tem set correctly.\n",
    "\n"
   ]
  },
  {
   "cell_type": "markdown",
   "metadata": {},
   "source": [
    "## 1.8 Descriptive Stats"
   ]
  },
  {
   "cell_type": "markdown",
   "metadata": {},
   "source": [
    "### 1.8.1 Numerical Variables"
   ]
  },
  {
   "cell_type": "code",
   "execution_count": 34,
   "metadata": {},
   "outputs": [
    {
     "data": {
      "text/html": [
       "<div>\n",
       "<style scoped>\n",
       "    .dataframe tbody tr th:only-of-type {\n",
       "        vertical-align: middle;\n",
       "    }\n",
       "\n",
       "    .dataframe tbody tr th {\n",
       "        vertical-align: top;\n",
       "    }\n",
       "\n",
       "    .dataframe thead th {\n",
       "        text-align: right;\n",
       "    }\n",
       "</style>\n",
       "<table border=\"1\" class=\"dataframe\">\n",
       "  <thead>\n",
       "    <tr style=\"text-align: right;\">\n",
       "      <th></th>\n",
       "      <th>stars</th>\n",
       "      <th>reviews</th>\n",
       "      <th>price</th>\n",
       "      <th>listPrice</th>\n",
       "      <th>boughtInLastMonth</th>\n",
       "    </tr>\n",
       "  </thead>\n",
       "  <tbody>\n",
       "    <tr>\n",
       "      <th>count</th>\n",
       "      <td>1344513.00</td>\n",
       "      <td>1344513.00</td>\n",
       "      <td>1344513.00</td>\n",
       "      <td>1344513.00</td>\n",
       "      <td>1344513.00</td>\n",
       "    </tr>\n",
       "    <tr>\n",
       "      <th>mean</th>\n",
       "      <td>1.47</td>\n",
       "      <td>212.23</td>\n",
       "      <td>217.86</td>\n",
       "      <td>65.30</td>\n",
       "      <td>4.35</td>\n",
       "    </tr>\n",
       "    <tr>\n",
       "      <th>std</th>\n",
       "      <td>2.11</td>\n",
       "      <td>4581.19</td>\n",
       "      <td>856.21</td>\n",
       "      <td>2874.17</td>\n",
       "      <td>94.36</td>\n",
       "    </tr>\n",
       "    <tr>\n",
       "      <th>min</th>\n",
       "      <td>0.00</td>\n",
       "      <td>0.00</td>\n",
       "      <td>0.00</td>\n",
       "      <td>0.00</td>\n",
       "      <td>0.00</td>\n",
       "    </tr>\n",
       "    <tr>\n",
       "      <th>25%</th>\n",
       "      <td>0.00</td>\n",
       "      <td>0.00</td>\n",
       "      <td>25.00</td>\n",
       "      <td>0.00</td>\n",
       "      <td>0.00</td>\n",
       "    </tr>\n",
       "    <tr>\n",
       "      <th>50%</th>\n",
       "      <td>0.00</td>\n",
       "      <td>0.00</td>\n",
       "      <td>69.00</td>\n",
       "      <td>0.00</td>\n",
       "      <td>0.00</td>\n",
       "    </tr>\n",
       "    <tr>\n",
       "      <th>75%</th>\n",
       "      <td>4.20</td>\n",
       "      <td>3.00</td>\n",
       "      <td>153.99</td>\n",
       "      <td>0.00</td>\n",
       "      <td>0.00</td>\n",
       "    </tr>\n",
       "    <tr>\n",
       "      <th>max</th>\n",
       "      <td>5.00</td>\n",
       "      <td>1878552.00</td>\n",
       "      <td>100000.00</td>\n",
       "      <td>1999000.00</td>\n",
       "      <td>40000.00</td>\n",
       "    </tr>\n",
       "  </tbody>\n",
       "</table>\n",
       "</div>"
      ],
      "text/plain": [
       "           stars    reviews      price  listPrice  boughtInLastMonth\n",
       "count 1344513.00 1344513.00 1344513.00 1344513.00         1344513.00\n",
       "mean        1.47     212.23     217.86      65.30               4.35\n",
       "std         2.11    4581.19     856.21    2874.17              94.36\n",
       "min         0.00       0.00       0.00       0.00               0.00\n",
       "25%         0.00       0.00      25.00       0.00               0.00\n",
       "50%         0.00       0.00      69.00       0.00               0.00\n",
       "75%         4.20       3.00     153.99       0.00               0.00\n",
       "max         5.00 1878552.00  100000.00 1999000.00           40000.00"
      ]
     },
     "execution_count": 34,
     "metadata": {},
     "output_type": "execute_result"
    }
   ],
   "source": [
    "# Surpassing exponantial notation into 2 decimals format\n",
    "pd.options.display.float_format = '{:.2f}'.format\n",
    "\n",
    "num_var = df1.select_dtypes(include=['float64', 'int64'])\n",
    "num_var.describe()"
   ]
  },
  {
   "cell_type": "markdown",
   "metadata": {},
   "source": [
    "### 1.8.1 Categorical Variables"
   ]
  },
  {
   "cell_type": "code",
   "execution_count": 35,
   "metadata": {},
   "outputs": [
    {
     "data": {
      "text/plain": [
       "asin            1344513\n",
       "title           1308169\n",
       "imgUrl          1168557\n",
       "productURL      1344513\n",
       "categoryName        206\n",
       "isBestSeller          2\n",
       "dtype: int64"
      ]
     },
     "execution_count": 35,
     "metadata": {},
     "output_type": "execute_result"
    }
   ],
   "source": [
    "cat_var = df1.select_dtypes(exclude=['float64', 'int64'])\n",
    "\n",
    "# Finding unique categories for each categorical variable\n",
    "cat_var.apply(lambda x: x.unique().shape[0])"
   ]
  },
  {
   "cell_type": "markdown",
   "metadata": {},
   "source": [
    "# 2 Hypothesis Map "
   ]
  },
  {
   "cell_type": "code",
   "execution_count": 41,
   "metadata": {},
   "outputs": [],
   "source": [
    "# Client view\n",
    "    # Categories with higher stars sell more\n",
    "    # Categories with more reviews sell more\n",
    "    # Categories best seller sell more\n",
    "    # Categories bouth in last month sell more\n",
    "\n",
    "# Price view\n",
    "    # How the price of products is divided by category?\n",
    "    # How the price of products is divided by range of price?\n",
    "    # Products with listprice sell more"
   ]
  },
  {
   "cell_type": "markdown",
   "metadata": {},
   "source": [
    "# 3 EDA"
   ]
  },
  {
   "cell_type": "code",
   "execution_count": 42,
   "metadata": {},
   "outputs": [
    {
     "data": {
      "text/html": [
       "<div>\n",
       "<style scoped>\n",
       "    .dataframe tbody tr th:only-of-type {\n",
       "        vertical-align: middle;\n",
       "    }\n",
       "\n",
       "    .dataframe tbody tr th {\n",
       "        vertical-align: top;\n",
       "    }\n",
       "\n",
       "    .dataframe thead th {\n",
       "        text-align: right;\n",
       "    }\n",
       "</style>\n",
       "<table border=\"1\" class=\"dataframe\">\n",
       "  <thead>\n",
       "    <tr style=\"text-align: right;\">\n",
       "      <th></th>\n",
       "      <th>asin</th>\n",
       "      <th>title</th>\n",
       "      <th>imgUrl</th>\n",
       "      <th>productURL</th>\n",
       "      <th>stars</th>\n",
       "      <th>reviews</th>\n",
       "      <th>price</th>\n",
       "      <th>listPrice</th>\n",
       "      <th>categoryName</th>\n",
       "      <th>isBestSeller</th>\n",
       "      <th>boughtInLastMonth</th>\n",
       "    </tr>\n",
       "  </thead>\n",
       "  <tbody>\n",
       "    <tr>\n",
       "      <th>0</th>\n",
       "      <td>B0C154VR2L</td>\n",
       "      <td>SAMSUNG Smart TV Crystal 50\" 4K UHD CU7700 - A...</td>\n",
       "      <td>https://m.media-amazon.com/images/I/71vk2qFDSP...</td>\n",
       "      <td>https://www.amazon.com.br/dp/B0C154VR2L</td>\n",
       "      <td>4.60</td>\n",
       "      <td>269</td>\n",
       "      <td>2279.05</td>\n",
       "      <td>0.00</td>\n",
       "      <td>TV, Áudio e Cinema em Casa</td>\n",
       "      <td>False</td>\n",
       "      <td>0</td>\n",
       "    </tr>\n",
       "    <tr>\n",
       "      <th>1</th>\n",
       "      <td>B0C85J5HYD</td>\n",
       "      <td>Mini Projetor Portatil 5G Wifi 6 Bluetooth 5.0...</td>\n",
       "      <td>https://m.media-amazon.com/images/I/5133wKaOqS...</td>\n",
       "      <td>https://www.amazon.com.br/dp/B0C85J5HYD</td>\n",
       "      <td>4.50</td>\n",
       "      <td>816</td>\n",
       "      <td>409.99</td>\n",
       "      <td>0.00</td>\n",
       "      <td>TV, Áudio e Cinema em Casa</td>\n",
       "      <td>True</td>\n",
       "      <td>5000</td>\n",
       "    </tr>\n",
       "    <tr>\n",
       "      <th>2</th>\n",
       "      <td>B0C1538ZJ4</td>\n",
       "      <td>Samsung Smart TV Crystal 43\" 4K UHD CU7700 - A...</td>\n",
       "      <td>https://m.media-amazon.com/images/I/71vk2qFDSP...</td>\n",
       "      <td>https://www.amazon.com.br/dp/B0C1538ZJ4</td>\n",
       "      <td>4.70</td>\n",
       "      <td>638</td>\n",
       "      <td>1969.00</td>\n",
       "      <td>2499.00</td>\n",
       "      <td>TV, Áudio e Cinema em Casa</td>\n",
       "      <td>False</td>\n",
       "      <td>0</td>\n",
       "    </tr>\n",
       "    <tr>\n",
       "      <th>3</th>\n",
       "      <td>B0B4V379PC</td>\n",
       "      <td>Samsung 60BU8000 - Smart TV LED 60' 4K UHD, Wi...</td>\n",
       "      <td>https://m.media-amazon.com/images/I/8110fzpU-P...</td>\n",
       "      <td>https://www.amazon.com.br/dp/B0B4V379PC</td>\n",
       "      <td>4.60</td>\n",
       "      <td>675</td>\n",
       "      <td>3099.00</td>\n",
       "      <td>0.00</td>\n",
       "      <td>TV, Áudio e Cinema em Casa</td>\n",
       "      <td>False</td>\n",
       "      <td>0</td>\n",
       "    </tr>\n",
       "    <tr>\n",
       "      <th>4</th>\n",
       "      <td>B0899BRB4B</td>\n",
       "      <td>Smart TV LED 32'' HD Samsung LH32BETBLGGXZD</td>\n",
       "      <td>https://m.media-amazon.com/images/I/61M025WzQd...</td>\n",
       "      <td>https://www.amazon.com.br/dp/B0899BRB4B</td>\n",
       "      <td>4.70</td>\n",
       "      <td>3945</td>\n",
       "      <td>1079.90</td>\n",
       "      <td>1369.00</td>\n",
       "      <td>TV, Áudio e Cinema em Casa</td>\n",
       "      <td>True</td>\n",
       "      <td>0</td>\n",
       "    </tr>\n",
       "  </tbody>\n",
       "</table>\n",
       "</div>"
      ],
      "text/plain": [
       "         asin                                              title  \\\n",
       "0  B0C154VR2L  SAMSUNG Smart TV Crystal 50\" 4K UHD CU7700 - A...   \n",
       "1  B0C85J5HYD  Mini Projetor Portatil 5G Wifi 6 Bluetooth 5.0...   \n",
       "2  B0C1538ZJ4  Samsung Smart TV Crystal 43\" 4K UHD CU7700 - A...   \n",
       "3  B0B4V379PC  Samsung 60BU8000 - Smart TV LED 60' 4K UHD, Wi...   \n",
       "4  B0899BRB4B        Smart TV LED 32'' HD Samsung LH32BETBLGGXZD   \n",
       "\n",
       "                                              imgUrl  \\\n",
       "0  https://m.media-amazon.com/images/I/71vk2qFDSP...   \n",
       "1  https://m.media-amazon.com/images/I/5133wKaOqS...   \n",
       "2  https://m.media-amazon.com/images/I/71vk2qFDSP...   \n",
       "3  https://m.media-amazon.com/images/I/8110fzpU-P...   \n",
       "4  https://m.media-amazon.com/images/I/61M025WzQd...   \n",
       "\n",
       "                                productURL  stars  reviews   price  listPrice  \\\n",
       "0  https://www.amazon.com.br/dp/B0C154VR2L   4.60      269 2279.05       0.00   \n",
       "1  https://www.amazon.com.br/dp/B0C85J5HYD   4.50      816  409.99       0.00   \n",
       "2  https://www.amazon.com.br/dp/B0C1538ZJ4   4.70      638 1969.00    2499.00   \n",
       "3  https://www.amazon.com.br/dp/B0B4V379PC   4.60      675 3099.00       0.00   \n",
       "4  https://www.amazon.com.br/dp/B0899BRB4B   4.70     3945 1079.90    1369.00   \n",
       "\n",
       "                 categoryName  isBestSeller  boughtInLastMonth  \n",
       "0  TV, Áudio e Cinema em Casa         False                  0  \n",
       "1  TV, Áudio e Cinema em Casa          True               5000  \n",
       "2  TV, Áudio e Cinema em Casa         False                  0  \n",
       "3  TV, Áudio e Cinema em Casa         False                  0  \n",
       "4  TV, Áudio e Cinema em Casa          True                  0  "
      ]
     },
     "execution_count": 42,
     "metadata": {},
     "output_type": "execute_result"
    }
   ],
   "source": [
    "# Copy of dataset \n",
    "df2 = df1.copy()\n",
    "df2.head()"
   ]
  },
  {
   "cell_type": "markdown",
   "metadata": {},
   "source": []
  },
  {
   "cell_type": "code",
   "execution_count": null,
   "metadata": {},
   "outputs": [],
   "source": [
    "# Multivariada Analysis\n",
    "# Bivariada Analysis\n",
    "# Hiphotesys Validation\n"
   ]
  },
  {
   "cell_type": "markdown",
   "metadata": {},
   "source": []
  }
 ],
 "metadata": {
  "kernelspec": {
   "display_name": "repos",
   "language": "python",
   "name": "python3"
  },
  "language_info": {
   "codemirror_mode": {
    "name": "ipython",
    "version": 3
   },
   "file_extension": ".py",
   "mimetype": "text/x-python",
   "name": "python",
   "nbconvert_exporter": "python",
   "pygments_lexer": "ipython3",
   "version": "3.11.5"
  }
 },
 "nbformat": 4,
 "nbformat_minor": 2
}
